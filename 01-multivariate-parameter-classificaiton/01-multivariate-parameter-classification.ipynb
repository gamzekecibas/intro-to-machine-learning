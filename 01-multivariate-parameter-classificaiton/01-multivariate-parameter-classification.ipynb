{
 "cells": [
  {
   "cell_type": "markdown",
   "id": "e761d7a0",
   "metadata": {},
   "source": [
    "### DASC521: Intro to ML\n",
    "### Homework 1: Multivariate Parametric Classification\n",
    "### Gamze Keçibaş  \n",
    "---\n",
    "### CONTENT\n",
    "- **Step 01.** Import Libraries    \n",
    "- **Step 02.** Generate Random Data    \n",
    "- **Step 03.** Parameter Estimation  \n",
    "    - Calculate means    \n",
    "    - Calculate covariances  \n",
    "    - Calculate priors  \n",
    "- **Step 04.** Calculate Confusion Matrix  \n",
    "- **Step 05.** Plot Decision Boundaries    \n",
    "    - Calculate Score Functions & Posteriors    \n",
    "    - Plot Decision Boundaries & Errors    "
   ]
  },
  {
   "cell_type": "markdown",
   "id": "b75c96fc",
   "metadata": {},
   "source": [
    "### Step 01. Import Libraries"
   ]
  },
  {
   "cell_type": "code",
   "execution_count": 1,
   "id": "8bec3a20",
   "metadata": {},
   "outputs": [],
   "source": [
    "import math\n",
    "import numpy as np\n",
    "import pandas as pd\n",
    "import matplotlib.pyplot as plt\n",
    "import scipy.stats as stats\n",
    "\n",
    "np.random.seed(1)"
   ]
  },
  {
   "cell_type": "markdown",
   "id": "16d79821",
   "metadata": {},
   "source": [
    "### Step 02. Generate Random Data"
   ]
  },
  {
   "cell_type": "code",
   "execution_count": 2,
   "id": "f3c48b97",
   "metadata": {},
   "outputs": [
    {
     "data": {
      "image/png": "[encoded data removed]",
      "text/plain": [
       "<Figure size 432x288 with 1 Axes>"
      ]
     },
     "metadata": {
      "needs_background": "light"
     },
     "output_type": "display_data"
    }
   ],
   "source": [
    "N= np.array([120, 80, 100])        # number of samples for three cases\n",
    "mu1= [0.0, 2.5]                    # mean array of distributions\n",
    "mu2= [-2.5, -2.0]\n",
    "mu3= [2.5, -2.0]\n",
    "\n",
    "sigma1= [[3.2, 0.0],[0.0, 1.2]]    # covariance matrix of distributions\n",
    "sigma2= [[1.2, 0.8],[0.8, 1.2]]\n",
    "sigma3= [[1.2, -0.8],[-0.8, 1.2]]\n",
    "\n",
    "p1 = np.random.multivariate_normal(mu1, sigma1, N[0])    # randomly generated data points\n",
    "p2 = np.random.multivariate_normal(mu2, sigma2, N[1])\n",
    "p3 = np.random.multivariate_normal(mu3, sigma3, N[2])\n",
    "X = np.vstack((p1,p2,p3))\n",
    "\n",
    "Y= np.concatenate((np.repeat(1, N[0]), np.repeat(2, N[1]), np.repeat(3, N[2])))   # labels of data points\n",
    "\n",
    "plt.Figure()\n",
    "plt.plot(p1.T[0], p1.T[1],'ro')\n",
    "plt.plot(p2.T[0], p2.T[1],'go')\n",
    "plt.plot(p3.T[0], p3.T[1],'bo')\n",
    "plt.axis('equal')\n",
    "plt.xlim([-6, 6]), plt.ylim([-6, 6])\n",
    "plt.xlabel('x1'), plt.ylabel('x2'), plt.title('Randomly Generated Set')\n",
    "plt.show()"
   ]
  },
  {
   "cell_type": "markdown",
   "id": "935d051e",
   "metadata": {},
   "source": [
    "### Step 03. Parameter Estimation\n",
    "#### Calculate means"
   ]
  },
  {
   "cell_type": "code",
   "execution_count": 3,
   "id": "7126cd63",
   "metadata": {},
   "outputs": [
    {
     "name": "stdout",
     "output_type": "stream",
     "text": [
      "Class [1]:\n",
      "[0.26563078 2.52716835]\n",
      "Class [2]:\n",
      "[-2.47809683 -1.95300192]\n",
      "Class [3]:\n",
      "[ 2.56009664 -1.90556717]\n"
     ]
    }
   ],
   "source": [
    "K= np.max(Y)\n",
    "n= X.shape[0]\n",
    "\n",
    "sample_means= [np.mean(X[Y == (c+1)], axis=0) for c in range(K)]\n",
    "for i in range(len(sample_means)):\n",
    "    print(f'Class [{i+1}]:')\n",
    "    print(sample_means[i])"
   ]
  },
  {
   "cell_type": "markdown",
   "id": "451bc3bf",
   "metadata": {},
   "source": [
    "#### Calculate Covariances"
   ]
  },
  {
   "cell_type": "code",
   "execution_count": 4,
   "id": "632ee24f",
   "metadata": {},
   "outputs": [],
   "source": [
    "sample_covs= [np.dot((X[Y== c+1] - sample_means[c]).T,(X[Y== c+1] - sample_means[c]))/N[c] for c in range(K)]"
   ]
  },
  {
   "cell_type": "markdown",
   "id": "93cf7733",
   "metadata": {},
   "source": [
    "#### Calculate Priors "
   ]
  },
  {
   "cell_type": "code",
   "execution_count": 5,
   "id": "dd350e9d",
   "metadata": {},
   "outputs": [
    {
     "name": "stdout",
     "output_type": "stream",
     "text": [
      "Prior probability of Class [1]:  0.4\n",
      "Prior probability of Class [2]:  0.26666666666666666\n",
      "Prior probability of Class [3]:  0.3333333333333333\n",
      "\n",
      "Total probability=  1.0\n"
     ]
    }
   ],
   "source": [
    "class_priors= [np.mean(Y== (c+1)) for c in range(K)]\n",
    "class_priors\n",
    "sum(class_priors)\n",
    "\n",
    "for m in range(len(class_priors)):\n",
    "    print(f'Prior probability of Class [{m+1}]: ', class_priors[m])\n",
    "print('\\nTotal probability= ', sum(class_priors))"
   ]
  },
  {
   "cell_type": "markdown",
   "id": "3a06e7c7",
   "metadata": {},
   "source": [
    "### Step 04. Calculate Confusion Matrix"
   ]
  },
  {
   "cell_type": "code",
   "execution_count": 6,
   "id": "53ed72d5",
   "metadata": {},
   "outputs": [
    {
     "name": "stdout",
     "output_type": "stream",
     "text": [
      "Confusion Matrix of the prediction:\n",
      "\n",
      "y_truth    1   2    3\n",
      "y_pred               \n",
      "1        116   1    0\n",
      "2          1  77    0\n",
      "3          3   2  100\n"
     ]
    }
   ],
   "source": [
    "y_pred = []\n",
    "for i in range(X.shape[0]):\n",
    "    scores = [-K/2*np.log(2*np.pi) -1/2*np.log(np.linalg.det(sample_covs[c])) -1/2 * np.dot(np.dot(X[i] \n",
    "            - sample_means[c], np.linalg.inv(sample_covs[c])), X[i] - sample_means[c].T) + np.log(class_priors[c]) for c in range(K)]\n",
    "    y_pred.append(np.argmax(scores)+1)\n",
    "y_pred = np.array(y_pred)\n",
    "\n",
    "CM = pd.crosstab(y_pred, Y, rownames = ['y_pred'], colnames = ['y_truth'])\n",
    "print('Confusion Matrix of the prediction:\\n')\n",
    "print(CM)"
   ]
  },
  {
   "cell_type": "markdown",
   "id": "ac9d16fd",
   "metadata": {},
   "source": [
    "### Step 05. Plot Decision Boundaries"
   ]
  },
  {
   "cell_type": "markdown",
   "id": "21fafff8",
   "metadata": {},
   "source": [
    "#### Calculate Score Functions & Posteriors"
   ]
  },
  {
   "cell_type": "code",
   "execution_count": 7,
   "id": "1a216b2f",
   "metadata": {},
   "outputs": [],
   "source": [
    "Wc = np.array([-0.5 * np.linalg.inv(sample_covs[c]) for c in range(K)])\n",
    "wc = np.array([np.matmul(np.linalg.inv(sample_covs[c]), sample_means[c]) for c in range(K)])\n",
    "wc0 = np.array([-(np.matmul(np.matmul(np.transpose(sample_means[c]), 0.5* np.linalg.inv(sample_covs[c])), sample_means[c])) \n",
    "                - 0.5 * np.log(np.linalg.det(sample_covs[c])) \n",
    "                + np.log(class_priors[c]) \n",
    "                for c in range(K)])\n",
    "\n",
    "\n",
    "x1_interval = np.linspace(-6, +6, 1201)\n",
    "x2_interval = np.linspace(-6, +6, 1201)\n",
    "x1_grid, x2_grid = np.meshgrid(x1_interval, x2_interval)\n",
    "discriminant_values = np.zeros((K, len(x1_interval), len(x2_interval)))\n",
    "\n",
    "for c in range(K):\n",
    "    discriminant_values[c, :, :] = (Wc[c, 0, 0] * x1_grid ** 2) + (Wc[c, 0, 1] * x1_grid * x2_grid) + (wc[1, 0] * x2_grid * x1_grid) + (wc[1, 1] * x2_grid ** 2) + (wc[c, 0] * x1_grid) + (wc[c, 1] * x2_grid) + wc0[c]\n",
    "C1 = discriminant_values[0, :, :]\n",
    "C2 = discriminant_values[1, :, :]\n",
    "C3 = discriminant_values[2, :, :]\n",
    "C1[(C1 < C2) & (C1 < C3)] = np.nan\n",
    "C2[(C2 < C1) & (C2 < C3)] = np.nan\n",
    "C3[(C3 < C1) & (C3 < C2)] = np.nan"
   ]
  },
  {
   "cell_type": "markdown",
   "id": "c1e3d246",
   "metadata": {},
   "source": [
    "#### Plot Decision Boundaries & Errors"
   ]
  },
  {
   "cell_type": "code",
   "execution_count": 8,
   "id": "41fdfb6b",
   "metadata": {},
   "outputs": [
    {
     "data": {
      "image/png": "[encoded data removed]",
      "text/plain": [
       "<Figure size 432x288 with 1 Axes>"
      ]
     },
     "metadata": {
      "needs_background": "light"
     },
     "output_type": "display_data"
    }
   ],
   "source": [
    "plt.plot(X[Y == 1, 0], X[Y == 1, 1], \"r.\", markersize = 10)\n",
    "plt.plot(X[Y == 2, 0], X[Y == 2, 1], \"g.\", markersize = 10)\n",
    "plt.plot(X[Y == 3, 0], X[Y == 3, 1], \"b.\", markersize = 10)\n",
    "plt.plot(X[y_pred != Y, 0], X[y_pred != Y, 1], \"ko\", markersize = 10, fillstyle = \"none\")\n",
    "\n",
    "x1_grid, x2_grid = np.meshgrid(x1_interval, x2_interval)\n",
    "\n",
    "res = C1 + C2 + C3\n",
    "plt.contour(x1_grid, x2_grid, (C1 - C2), levels = 0, colors = \"k\")\n",
    "plt.contour(x1_grid, x2_grid, (C1 - C3), levels = 0, colors = \"k\")\n",
    "plt.contour(x1_grid, x2_grid, (C2 - C3), levels = 0, colors = \"k\")\n",
    "\n",
    "plt.xlabel(\"x1\")\n",
    "plt.ylabel(\"x2\")\n",
    "plt.title(\"Decision Boundaries & Misclasifications\")\n",
    "plt.xlim([-6, 6]), plt.ylim([-6, 6])\n",
    "plt.axis('equal')\n",
    "plt.show()"
   ]
  }
 ],
 "metadata": {
  "kernelspec": {
   "display_name": "Python 3",
   "language": "python",
   "name": "python3"
  },
  "language_info": {
   "codemirror_mode": {
    "name": "ipython",
    "version": 3
   },
   "file_extension": ".py",
   "mimetype": "text/x-python",
   "name": "python",
   "nbconvert_exporter": "python",
   "pygments_lexer": "ipython3",
   "version": "3.8.8"
  }
 },
 "nbformat": 4,
 "nbformat_minor": 5
}
